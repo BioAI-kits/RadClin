{
 "cells": [
  {
   "cell_type": "code",
   "execution_count": 1,
   "id": "bca78481",
   "metadata": {},
   "outputs": [],
   "source": [
    "import pandas as pd\n",
    "from sklearn.ensemble import RandomForestClassifier\n",
    "from sklearn.model_selection import train_test_split\n",
    "from sklearn.model_selection import GridSearchCV,StratifiedKFold"
   ]
  },
  {
   "cell_type": "markdown",
   "id": "672cf5ac",
   "metadata": {},
   "source": [
    "## To compute radscore for PFS with enhancement "
   ]
  },
  {
   "cell_type": "code",
   "execution_count": 44,
   "id": "d5da55d1",
   "metadata": {},
   "outputs": [
    {
     "name": "stdout",
     "output_type": "stream",
     "text": [
      "Fitting 5 folds for each of 18225 candidates, totalling 91125 fits\n"
     ]
    }
   ],
   "source": [
    "seed = 1000\n",
    "\n",
    "# Read rad data\n",
    "df1 = pd.read_csv('data/Label_0_enhancement.csv')\n",
    "\n",
    "df1 = df1[df1.patient_id.isin(df_cli.Rad_id)]\n",
    "\n",
    "cols = [df1.columns.to_list()[4]] + df1.columns.to_list()[6:]\n",
    "df1 = df1[cols]\n",
    "X = df1.iloc[:, 2:]\n",
    "X = X.dropna(axis=1, how='any')\n",
    "y = df1.loc[:, \"label_label_0\"]\n",
    "\n",
    "# Gridsearch CV\n",
    "k_fold = StratifiedKFold(n_splits=5, shuffle=True, random_state=seed)  \n",
    "candidate_params = {  'max_features': list(range(1, 10,1)), \n",
    "                      'n_estimators': list(range(1, 10,1)), \n",
    "                      'max_depth': list(range(5, 20,1)),\n",
    "                      'max_leaf_nodes': list(range(5, 20,1))\n",
    "                     }  \n",
    "model = RandomForestClassifier(random_state=seed)\n",
    "gs = GridSearchCV(model, \n",
    "                  candidate_params, \n",
    "                  refit = True, \n",
    "                  cv = k_fold, \n",
    "                  verbose = 1, \n",
    "                  n_jobs = -1)\n",
    "gs.fit(X, y)\n",
    "\n",
    "# build RF model\n",
    "Xtrain, Xtest, Ytrain, Ytest = train_test_split(X, y, test_size=0.3, random_state=seed)\n",
    "RF = RandomForestClassifier(**gs.best_params_)\n",
    "RF = RF.fit(Xtrain, Ytrain)\n",
    "\n",
    "# output rad score\n",
    "df1['Rad_score'] = RF.predict_proba(X)[:,1]\n",
    "df1.to_csv('results/radscore/Label_0_enhancement_radscore_RF.tsv', index=False, sep='\\t')"
   ]
  },
  {
   "cell_type": "markdown",
   "id": "da2f7c3d",
   "metadata": {},
   "source": [
    "## To compute radscore for PFS with pulmonary"
   ]
  },
  {
   "cell_type": "code",
   "execution_count": 45,
   "id": "a283d37e",
   "metadata": {
    "scrolled": true
   },
   "outputs": [
    {
     "name": "stdout",
     "output_type": "stream",
     "text": [
      "Fitting 5 folds for each of 18225 candidates, totalling 91125 fits\n"
     ]
    }
   ],
   "source": [
    "seed = 1000\n",
    "\n",
    "# Read rad data\n",
    "df1 = pd.read_csv('data/Label_0_pulmonary.csv')\n",
    "\n",
    "df1 = df1[df1.patient_id.isin(df_cli.Rad_id)]\n",
    "\n",
    "cols = [df1.columns.to_list()[4]] + df1.columns.to_list()[6:]\n",
    "df1 = df1[cols]\n",
    "X = df1.iloc[:, 2:]\n",
    "X = X.dropna(axis=1, how='any')\n",
    "y = df1.loc[:, \"label_label_0\"]\n",
    "\n",
    "# Gridsearch CV\n",
    "k_fold = StratifiedKFold(n_splits=5, shuffle=True, random_state=seed)  \n",
    "candidate_params = {  'max_features': list(range(1, 10,1)), \n",
    "                      'n_estimators': list(range(1, 10,1)), \n",
    "                      'max_depth': list(range(5, 20,1)),\n",
    "                      'max_leaf_nodes': list(range(5, 20,1))\n",
    "                     }  \n",
    "model = RandomForestClassifier(random_state=seed)\n",
    "gs = GridSearchCV(model, \n",
    "                  candidate_params, \n",
    "                  refit = True, \n",
    "                  cv = k_fold, \n",
    "                  verbose = 1, \n",
    "                  n_jobs = -1)\n",
    "gs.fit(X, y)\n",
    "\n",
    "# build RF model\n",
    "Xtrain, Xtest, Ytrain, Ytest = train_test_split(X, y, test_size=0.2, random_state=seed)\n",
    "RF = RandomForestClassifier(**gs.best_params_)\n",
    "RF = RF.fit(Xtrain, Ytrain)\n",
    "\n",
    "# output rad score\n",
    "df1['Rad_score'] = RF.predict_proba(X)[:,1]\n",
    "df1.to_csv('results/radscore/Label_0_pulmonary_radscore_RF.tsv', index=False, sep='\\t')"
   ]
  },
  {
   "cell_type": "markdown",
   "id": "b3da6e53",
   "metadata": {},
   "source": [
    "## To compute radscore for OS with enhancement"
   ]
  },
  {
   "cell_type": "code",
   "execution_count": 46,
   "id": "6730e26f",
   "metadata": {},
   "outputs": [
    {
     "name": "stdout",
     "output_type": "stream",
     "text": [
      "Fitting 5 folds for each of 18225 candidates, totalling 91125 fits\n"
     ]
    }
   ],
   "source": [
    "seed = 1000\n",
    "\n",
    "# Read rad data\n",
    "df1 = pd.read_csv('data/Label_1_enhancement.csv')\n",
    "\n",
    "df1 = df1[df1.patient_id.isin(df_cli.Rad_id)]\n",
    "\n",
    "cols = [df1.columns.to_list()[4]] + df1.columns.to_list()[6:]\n",
    "df1 = df1[cols]\n",
    "X = df1.iloc[:, 2:]\n",
    "X = X.dropna(axis=1, how='any')\n",
    "y = df1.loc[:, \"label_label_1\"]\n",
    "\n",
    "# Gridsearch CV\n",
    "k_fold = StratifiedKFold(n_splits=5, shuffle=True, random_state=seed)  \n",
    "candidate_params = {  'max_features': list(range(1, 10,1)), \n",
    "                      'n_estimators': list(range(1, 10,1)), \n",
    "                      'max_depth': list(range(5, 20,1)),\n",
    "                      'max_leaf_nodes': list(range(5, 20,1))\n",
    "                     }  \n",
    "model = RandomForestClassifier(random_state=seed)\n",
    "gs = GridSearchCV(model, \n",
    "                  candidate_params, \n",
    "                  refit = True, \n",
    "                  cv = k_fold, \n",
    "                  verbose = 1, \n",
    "                  n_jobs = -1)\n",
    "gs.fit(X, y)\n",
    "\n",
    "# build RF model\n",
    "Xtrain, Xtest, Ytrain, Ytest = train_test_split(X, y, test_size=0.3, random_state=seed)\n",
    "RF = RandomForestClassifier(**gs.best_params_)\n",
    "RF = RF.fit(Xtrain, Ytrain)\n",
    "\n",
    "# output rad score\n",
    "df1['Rad_score'] = RF.predict_proba(X)[:,1]\n",
    "df1.to_csv('results/radscore/Label_1_enhancement_radscore_RF.tsv', index=False, sep='\\t')"
   ]
  },
  {
   "cell_type": "markdown",
   "id": "b03677ff",
   "metadata": {},
   "source": [
    "## To compute radscore for OS with pulmonary"
   ]
  },
  {
   "cell_type": "code",
   "execution_count": 47,
   "id": "143d1fc6",
   "metadata": {},
   "outputs": [
    {
     "name": "stdout",
     "output_type": "stream",
     "text": [
      "Fitting 5 folds for each of 18225 candidates, totalling 91125 fits\n"
     ]
    }
   ],
   "source": [
    "seed = 1000\n",
    "\n",
    "# Read rad data\n",
    "df1 = pd.read_csv('data/Label_1_pulmonary.csv')\n",
    "\n",
    "df1 = df1[df1.patient_id.isin(df_cli.Rad_id)]\n",
    "\n",
    "cols = [df1.columns.to_list()[4]] + df1.columns.to_list()[6:]\n",
    "df1 = df1[cols]\n",
    "X = df1.iloc[:, 2:]\n",
    "X = X.dropna(axis=1, how='any')\n",
    "y = df1.loc[:, \"label_label_1\"]\n",
    "\n",
    "# Gridsearch CV\n",
    "k_fold = StratifiedKFold(n_splits=5, shuffle=True, random_state=seed)  \n",
    "candidate_params = {  'max_features': list(range(1, 10,1)), \n",
    "                      'n_estimators': list(range(1, 10,1)), \n",
    "                      'max_depth': list(range(5, 20,1)),\n",
    "                      'max_leaf_nodes': list(range(5, 20,1))\n",
    "                     }  \n",
    "model = RandomForestClassifier(random_state=seed)\n",
    "gs = GridSearchCV(model, \n",
    "                  candidate_params, \n",
    "                  refit = True, \n",
    "                  cv = k_fold, \n",
    "                  verbose = 1, \n",
    "                  n_jobs = -1)\n",
    "gs.fit(X, y)\n",
    "\n",
    "# build RF model\n",
    "Xtrain, Xtest, Ytrain, Ytest = train_test_split(X, y, test_size=0.3, random_state=seed)\n",
    "RF = RandomForestClassifier(**gs.best_params_)\n",
    "RF = RF.fit(Xtrain, Ytrain)\n",
    "\n",
    "# output rad score\n",
    "df1['Rad_score'] = RF.predict_proba(X)[:,1]\n",
    "df1.to_csv('results/radscore/Label_1_pulmonary_radscore_RF.tsv', index=False, sep='\\t')"
   ]
  },
  {
   "cell_type": "code",
   "execution_count": null,
   "id": "040453c6",
   "metadata": {},
   "outputs": [],
   "source": []
  }
 ],
 "metadata": {
  "kernelspec": {
   "display_name": "Python 3 (ipykernel)",
   "language": "python",
   "name": "python3"
  },
  "language_info": {
   "codemirror_mode": {
    "name": "ipython",
    "version": 3
   },
   "file_extension": ".py",
   "mimetype": "text/x-python",
   "name": "python",
   "nbconvert_exporter": "python",
   "pygments_lexer": "ipython3",
   "version": "3.8.5"
  },
  "varInspector": {
   "cols": {
    "lenName": 16,
    "lenType": 16,
    "lenVar": 40
   },
   "kernels_config": {
    "python": {
     "delete_cmd_postfix": "",
     "delete_cmd_prefix": "del ",
     "library": "var_list.py",
     "varRefreshCmd": "print(var_dic_list())"
    },
    "r": {
     "delete_cmd_postfix": ") ",
     "delete_cmd_prefix": "rm(",
     "library": "var_list.r",
     "varRefreshCmd": "cat(var_dic_list()) "
    }
   },
   "types_to_exclude": [
    "module",
    "function",
    "builtin_function_or_method",
    "instance",
    "_Feature"
   ],
   "window_display": false
  }
 },
 "nbformat": 4,
 "nbformat_minor": 5
}
